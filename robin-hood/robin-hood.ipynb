{
 "cells": [
  {
   "cell_type": "markdown",
   "metadata": {},
   "source": [
    "# Robin Hood:\n",
    "We are in a competition to win the archery contest in Sherwood. With our bow and arrows we shoot on a target and try to hit as close as possible to the center.\n",
    "\n",
    "The center of the target is represented by the values (0, 0) on the coordinate axes.\n",
    "\n",
    "![](images/arrows.jpg)\n",
    "\n",
    "## Goals:\n",
    "* data structures: lists, sets, tuples\n",
    "* logical operators: if-elif-else\n",
    "* loop: while/for\n",
    "* minimum (optional sorting)\n",
    "\n",
    "## Description:\n",
    "In the 2-dimensional space, a point can be defined by a pair of values that correspond to the horizontal coordinate (x) and the vertical coordinate (y). The space can be divided into 4 zones (quadrants): Q1, Q2, Q3, Q4. Whose single point of union is the point (0, 0).\n",
    "\n",
    "If a point is in Q1 both its x coordinate and the y are positive. I leave a link to wikipedia to familiarize yourself with these quadrants.\n",
    "\n",
    "https://en.wikipedia.org/wiki/Cartesian_coordinate_system\n",
    "\n",
    "https://en.wikipedia.org/wiki/Euclidean_distance\n",
    "\n",
    "## Shots\n",
    "```\n",
    "points = [(4, 5), (-0, 2), (4, 7), (1, -3), (3, -2), (4, 5),\n",
    "          (3, 2), (5, 7), (-5, 7), (2, 2), (-4, 5), (0, -2),\n",
    "          (-4, 7), (-1, 3), (-3, 2), (-4, -5), (-3, 2),\n",
    "          (5, 7), (5, 7), (2, 2), (9, 9), (-8, -9)]\n",
    "```\n",
    "\n",
    "## Tasks\n",
    "1. Robin Hood is famous for hitting an arrow with another arrow. Did you get it?\n",
    "2. Calculate how many arrows have fallen in each quadrant.\n",
    "3. Find the point closest to the center. Calculate its distance to the center. \n",
    "4. If the target has a radius of 9, calculate the number of arrows that must be picked up in the forest."
   ]
  },
  {
   "cell_type": "code",
   "execution_count": 54,
   "metadata": {},
   "outputs": [],
   "source": [
    "# Variables\n",
    "\n",
    "points = [(4, 5), (-0, 2), (4, 7), (1, -3), (3, -2), (4, 5),\n",
    "          (3, 2), (5, 7), (-5, 7), (2, 2), (-4, 5), (0, -2),\n",
    "          (-4, 7), (-1, 3), (-3, 2), (-4, -5), (-3, 2),\n",
    "          (5, 7), (5, 7), (2, 2), (9, 9), (-8, -9)]"
   ]
  },
  {
   "cell_type": "code",
   "execution_count": 55,
   "metadata": {},
   "outputs": [],
   "source": [
    "# 1. Robin Hood is famous for hitting an arrow with another arrow. Did you get it?\n",
    "\n"
   ]
  },
  {
   "cell_type": "code",
   "execution_count": 56,
   "metadata": {},
   "outputs": [
    {
     "name": "stdout",
     "output_type": "stream",
     "text": [
      "Total arrows 22\n",
      "q1 total: 10\n",
      "q2 total: 2\n",
      "q3 total: 2\n",
      "q4 total: 6\n",
      "qx total: 2\n",
      "q1 detail: [(4, 5), (4, 7), (4, 5), (3, 2), (5, 7), (2, 2), (5, 7), (5, 7), (2, 2), (9, 9)]\n",
      "q2 detail: [(1, -3), (3, -2)]\n",
      "q3 detail: [(-4, -5), (-8, -9)]\n",
      "q4 detail: [(-5, 7), (-4, 5), (-4, 7), (-1, 3), (-3, 2), (-3, 2)]\n",
      "qx detail: [(0, 2), (0, -2)]\n"
     ]
    }
   ],
   "source": [
    "# 2. Calculate how many arrows have fallen in each quadrant.\n",
    "q1 = []\n",
    "q2 = []\n",
    "q3 = []\n",
    "q4 = []\n",
    "qx = []\n",
    "\n",
    "for i in points:\n",
    "    if i[0] > 0:\n",
    "        if i[1] > 0:\n",
    "            q1.append(i)\n",
    "        elif i[1] < 0:\n",
    "            q2.append(i)\n",
    "    \n",
    "    elif i[0] < 0:\n",
    "        if i[1] < 0:\n",
    "            q3.append(i)\n",
    "        if i[1] > 0:\n",
    "            q4.append(i)\n",
    "            \n",
    "    else:\n",
    "        qx.append(i)\n",
    "        \n",
    "print(\"Total arrows\", len(points))\n",
    "print(\"q1 total:\", len(q1))\n",
    "print(\"q2 total:\", len(q2))\n",
    "print(\"q3 total:\", len(q3))\n",
    "print(\"q4 total:\", len(q4))\n",
    "print(\"qx total:\", len(qx))\n",
    "\n",
    "\n",
    "print(\"q1 detail:\", q1)\n",
    "print(\"q2 detail:\", q2)\n",
    "print(\"q3 detail:\", q3)\n",
    "print(\"q4 detail:\", q4)\n",
    "print(\"qx detail:\", qx)"
   ]
  },
  {
   "cell_type": "code",
   "execution_count": 61,
   "metadata": {},
   "outputs": [
    {
     "name": "stdout",
     "output_type": "stream",
     "text": [
      "the closest point to the center is: 2.0\n"
     ]
    }
   ],
   "source": [
    "# 3. Find the point closest to the center. Calculate its distance to the center\n",
    "# Defining a function that calculates the distance to the center can help\n",
    "import math\n",
    "dist_to_center = []\n",
    "\n",
    "for i in points:\n",
    "    diagonal = math.sqrt((i[0]**2) + (i[1]**2))\n",
    "    dist_to_center.append(diagonal)\n",
    "\n",
    "print(\"the closest point to the center is:\", min(dist_to_center))"
   ]
  },
  {
   "cell_type": "code",
   "execution_count": 63,
   "metadata": {},
   "outputs": [
    {
     "name": "stdout",
     "output_type": "stream",
     "text": [
      "(-8, -9)\n"
     ]
    }
   ],
   "source": [
    "# 4. If the target has a radius of 9, calculate the number of arrows that \n",
    "# must be picked up in the forest.\n",
    "\n",
    "arrow_in_forest = []\n",
    "\n",
    "for i in points:\n",
    "    if i[0] >= 9:\n",
    "        arrow_in_forest.append(i)\n",
    "        \n",
    "    elif i[1] >= 9:\n",
    "        arrow_in_forest.append(i)\n",
    "        \n",
    "print(i)"
   ]
  },
  {
   "cell_type": "code",
   "execution_count": null,
   "metadata": {},
   "outputs": [],
   "source": []
  }
 ],
 "metadata": {
  "kernelspec": {
   "display_name": "Python 3",
   "language": "python",
   "name": "python3"
  },
  "language_info": {
   "codemirror_mode": {
    "name": "ipython",
    "version": 3
   },
   "file_extension": ".py",
   "mimetype": "text/x-python",
   "name": "python",
   "nbconvert_exporter": "python",
   "pygments_lexer": "ipython3",
   "version": "3.7.3"
  }
 },
 "nbformat": 4,
 "nbformat_minor": 2
}
